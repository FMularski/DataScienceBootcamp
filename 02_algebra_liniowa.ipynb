{
  "nbformat": 4,
  "nbformat_minor": 0,
  "metadata": {
    "colab": {
      "name": "02_algebra_liniowa.ipynb",
      "provenance": [],
      "collapsed_sections": [],
      "authorship_tag": "ABX9TyObDo/l9pqicgkZeJShJkkR",
      "include_colab_link": true
    },
    "kernelspec": {
      "name": "python3",
      "display_name": "Python 3"
    }
  },
  "cells": [
    {
      "cell_type": "markdown",
      "metadata": {
        "id": "view-in-github",
        "colab_type": "text"
      },
      "source": [
        "<a href=\"https://colab.research.google.com/github/FMularski/DataScienceBootcamp/blob/master/02_algebra_liniowa.ipynb\" target=\"_parent\"><img src=\"https://colab.research.google.com/assets/colab-badge.svg\" alt=\"Open In Colab\"/></a>"
      ]
    },
    {
      "cell_type": "code",
      "metadata": {
        "id": "GdOZalaFsoZb",
        "colab_type": "code",
        "colab": {}
      },
      "source": [
        "import numpy as np"
      ],
      "execution_count": 1,
      "outputs": []
    },
    {
      "cell_type": "code",
      "metadata": {
        "id": "ZctyoSLuuvy4",
        "colab_type": "code",
        "colab": {
          "base_uri": "https://localhost:8080/",
          "height": 51
        },
        "outputId": "2dc634b7-4701-4cd7-e6d7-83f0dbb9b9ea"
      },
      "source": [
        "# normalizacja wektora\n",
        "v = np.array([5, 2])\n",
        "n_v = np.sqrt(v[0]**2 + v[1]**2)\n",
        "print(n_v)\n",
        "\n",
        "n_v = np.linalg.norm(v)\n",
        "print(n_v)"
      ],
      "execution_count": 5,
      "outputs": [
        {
          "output_type": "stream",
          "text": [
            "5.385164807134504\n",
            "5.385164807134504\n"
          ],
          "name": "stdout"
        }
      ]
    },
    {
      "cell_type": "code",
      "metadata": {
        "id": "cAY0noZpvi1F",
        "colab_type": "code",
        "colab": {
          "base_uri": "https://localhost:8080/",
          "height": 34
        },
        "outputId": "d14a67dd-c1c1-4b06-929e-0f1b614514d0"
      },
      "source": [
        "# cd\n",
        "v = np.array([5, -3 , 1])\n",
        "n_v = np.linalg.norm(v)\n",
        "print(n_v)"
      ],
      "execution_count": 6,
      "outputs": [
        {
          "output_type": "stream",
          "text": [
            "5.916079783099616\n"
          ],
          "name": "stdout"
        }
      ]
    },
    {
      "cell_type": "code",
      "metadata": {
        "id": "0RcOfaurwGwE",
        "colab_type": "code",
        "colab": {
          "base_uri": "https://localhost:8080/",
          "height": 34
        },
        "outputId": "3b40f331-7996-4aa8-930a-6ef65c031d71"
      },
      "source": [
        "# odleglosc punktow w przestrzeni\n",
        "p = np.array([3, 0, 5])\n",
        "q = np.array([0, 4, -1])\n",
        "\n",
        "sum = 0\n",
        "for cordp, cordq in zip(p, q):\n",
        "  sum += (cordp - cordq)**2 \n",
        "result = np.sqrt(sum)\n",
        "print(result)\n"
      ],
      "execution_count": 12,
      "outputs": [
        {
          "output_type": "stream",
          "text": [
            "7.810249675906654\n"
          ],
          "name": "stdout"
        }
      ]
    },
    {
      "cell_type": "code",
      "metadata": {
        "id": "x2ZCPfQ0w-qZ",
        "colab_type": "code",
        "colab": {
          "base_uri": "https://localhost:8080/",
          "height": 34
        },
        "outputId": "a68bd7b9-f806-469b-aaac-a69f12d40bf2"
      },
      "source": [
        "result = np.linalg.norm(p - q)   # p - q to wektor od q do p, jego dlugosc to odleglosc tych punktow\n",
        "print(result)"
      ],
      "execution_count": 13,
      "outputs": [
        {
          "output_type": "stream",
          "text": [
            "7.810249675906654\n"
          ],
          "name": "stdout"
        }
      ]
    },
    {
      "cell_type": "code",
      "metadata": {
        "id": "76xGTYmLxozn",
        "colab_type": "code",
        "colab": {}
      },
      "source": [
        ""
      ],
      "execution_count": null,
      "outputs": []
    }
  ]
}