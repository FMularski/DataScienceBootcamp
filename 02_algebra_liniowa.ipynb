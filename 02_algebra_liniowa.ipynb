{
  "nbformat": 4,
  "nbformat_minor": 0,
  "metadata": {
    "colab": {
      "name": "02_algebra_liniowa.ipynb",
      "provenance": [],
      "collapsed_sections": [],
      "authorship_tag": "ABX9TyMCrmyn17+vMAd57zDB/jhH",
      "include_colab_link": true
    },
    "kernelspec": {
      "name": "python3",
      "display_name": "Python 3"
    }
  },
  "cells": [
    {
      "cell_type": "markdown",
      "metadata": {
        "id": "view-in-github",
        "colab_type": "text"
      },
      "source": [
        "<a href=\"https://colab.research.google.com/github/FMularski/DataScienceBootcamp/blob/master/02_algebra_liniowa.ipynb\" target=\"_parent\"><img src=\"https://colab.research.google.com/assets/colab-badge.svg\" alt=\"Open In Colab\"/></a>"
      ]
    },
    {
      "cell_type": "code",
      "metadata": {
        "id": "GdOZalaFsoZb",
        "colab_type": "code",
        "colab": {}
      },
      "source": [
        "import numpy as np"
      ],
      "execution_count": 1,
      "outputs": []
    },
    {
      "cell_type": "code",
      "metadata": {
        "id": "ZctyoSLuuvy4",
        "colab_type": "code",
        "colab": {
          "base_uri": "https://localhost:8080/",
          "height": 51
        },
        "outputId": "2dc634b7-4701-4cd7-e6d7-83f0dbb9b9ea"
      },
      "source": [
        "# normalizacja wektora\n",
        "v = np.array([5, 2])\n",
        "n_v = np.sqrt(v[0]**2 + v[1]**2)\n",
        "print(n_v)\n",
        "\n",
        "n_v = np.linalg.norm(v)\n",
        "print(n_v)"
      ],
      "execution_count": 5,
      "outputs": [
        {
          "output_type": "stream",
          "text": [
            "5.385164807134504\n",
            "5.385164807134504\n"
          ],
          "name": "stdout"
        }
      ]
    },
    {
      "cell_type": "code",
      "metadata": {
        "id": "cAY0noZpvi1F",
        "colab_type": "code",
        "colab": {
          "base_uri": "https://localhost:8080/",
          "height": 34
        },
        "outputId": "d14a67dd-c1c1-4b06-929e-0f1b614514d0"
      },
      "source": [
        "# cd\n",
        "v = np.array([5, -3 , 1])\n",
        "n_v = np.linalg.norm(v)\n",
        "print(n_v)"
      ],
      "execution_count": 6,
      "outputs": [
        {
          "output_type": "stream",
          "text": [
            "5.916079783099616\n"
          ],
          "name": "stdout"
        }
      ]
    },
    {
      "cell_type": "code",
      "metadata": {
        "id": "0RcOfaurwGwE",
        "colab_type": "code",
        "colab": {
          "base_uri": "https://localhost:8080/",
          "height": 34
        },
        "outputId": "3b40f331-7996-4aa8-930a-6ef65c031d71"
      },
      "source": [
        "# odleglosc punktow w przestrzeni\n",
        "p = np.array([3, 0, 5])\n",
        "q = np.array([0, 4, -1])\n",
        "\n",
        "sum = 0\n",
        "for cordp, cordq in zip(p, q):\n",
        "  sum += (cordp - cordq)**2 \n",
        "result = np.sqrt(sum)\n",
        "print(result)\n"
      ],
      "execution_count": 12,
      "outputs": [
        {
          "output_type": "stream",
          "text": [
            "7.810249675906654\n"
          ],
          "name": "stdout"
        }
      ]
    },
    {
      "cell_type": "code",
      "metadata": {
        "id": "x2ZCPfQ0w-qZ",
        "colab_type": "code",
        "colab": {
          "base_uri": "https://localhost:8080/",
          "height": 34
        },
        "outputId": "a68bd7b9-f806-469b-aaac-a69f12d40bf2"
      },
      "source": [
        "result = np.linalg.norm(p - q)   # p - q to wektor od q do p, jego dlugosc to odleglosc tych punktow\n",
        "print(result)"
      ],
      "execution_count": 13,
      "outputs": [
        {
          "output_type": "stream",
          "text": [
            "7.810249675906654\n"
          ],
          "name": "stdout"
        }
      ]
    },
    {
      "cell_type": "code",
      "metadata": {
        "id": "76xGTYmLxozn",
        "colab_type": "code",
        "colab": {
          "base_uri": "https://localhost:8080/",
          "height": 51
        },
        "outputId": "2c66f29d-4db5-4c8d-e9cb-2d813f2cacd4"
      },
      "source": [
        "# mnozenie macierzy\n",
        "X = np.array([[5, 3], [3, 9]])\n",
        "Y = np.array([[1], [-1]])\n",
        "\n",
        "Z = np.dot(X, Y)\n",
        "Z"
      ],
      "execution_count": 19,
      "outputs": [
        {
          "output_type": "execute_result",
          "data": {
            "text/plain": [
              "array([[ 2],\n",
              "       [-6]])"
            ]
          },
          "metadata": {
            "tags": []
          },
          "execution_count": 19
        }
      ]
    },
    {
      "cell_type": "code",
      "metadata": {
        "id": "4Pfx6HRQ0V3u",
        "colab_type": "code",
        "colab": {
          "base_uri": "https://localhost:8080/",
          "height": 34
        },
        "outputId": "2dc8a646-b01f-4e21-866d-b7fdca196298"
      },
      "source": [
        "# wyznacznik macierzy\n",
        "A = np.array([[2, 4], [-1, 3]])\n",
        "np.linalg.det(A)"
      ],
      "execution_count": 20,
      "outputs": [
        {
          "output_type": "execute_result",
          "data": {
            "text/plain": [
              "9.999999999999998"
            ]
          },
          "metadata": {
            "tags": []
          },
          "execution_count": 20
        }
      ]
    },
    {
      "cell_type": "code",
      "metadata": {
        "id": "52F9pvWg1iGf",
        "colab_type": "code",
        "colab": {
          "base_uri": "https://localhost:8080/",
          "height": 34
        },
        "outputId": "48972929-fd0a-4769-9334-396fe1c713fa"
      },
      "source": [
        "# slad macierzy ( suma elementow na przekatnej)\n",
        "A = np.array([[2, 4], [-1, 3]])\n",
        "np.trace(A)"
      ],
      "execution_count": 21,
      "outputs": [
        {
          "output_type": "execute_result",
          "data": {
            "text/plain": [
              "5"
            ]
          },
          "metadata": {
            "tags": []
          },
          "execution_count": 21
        }
      ]
    },
    {
      "cell_type": "code",
      "metadata": {
        "id": "MO4S0JlG1y5o",
        "colab_type": "code",
        "colab": {
          "base_uri": "https://localhost:8080/",
          "height": 85
        },
        "outputId": "9effba03-43cd-4270-f54f-759c2ec433aa"
      },
      "source": [
        "# macierz jednostkowa\n",
        "np.eye(4, dtype='int')"
      ],
      "execution_count": 24,
      "outputs": [
        {
          "output_type": "execute_result",
          "data": {
            "text/plain": [
              "array([[1, 0, 0, 0],\n",
              "       [0, 1, 0, 0],\n",
              "       [0, 0, 1, 0],\n",
              "       [0, 0, 0, 1]])"
            ]
          },
          "metadata": {
            "tags": []
          },
          "execution_count": 24
        }
      ]
    },
    {
      "cell_type": "code",
      "metadata": {
        "id": "aTIhsRgU1-qa",
        "colab_type": "code",
        "colab": {
          "base_uri": "https://localhost:8080/",
          "height": 85
        },
        "outputId": "58638cbc-07d8-4248-ff8a-36bd6a4676a4"
      },
      "source": [
        "# macierz odwrotna ( tylko macierze kwadratowe)\n",
        "np.set_printoptions(precision=4, suppress=True)\n",
        "\n",
        "A = np.array([[2, 4], [-1, 3]])\n",
        "A_inv = np.linalg.inv(A)\n",
        "print(A)\n",
        "\n",
        "I = np.dot(A, A_inv)\n",
        "I"
      ],
      "execution_count": 28,
      "outputs": [
        {
          "output_type": "stream",
          "text": [
            "[[ 2  4]\n",
            " [-1  3]]\n"
          ],
          "name": "stdout"
        },
        {
          "output_type": "execute_result",
          "data": {
            "text/plain": [
              "array([[1., 0.],\n",
              "       [0., 1.]])"
            ]
          },
          "metadata": {
            "tags": []
          },
          "execution_count": 28
        }
      ]
    },
    {
      "cell_type": "code",
      "metadata": {
        "id": "tgiXw_y43VvH",
        "colab_type": "code",
        "colab": {
          "base_uri": "https://localhost:8080/",
          "height": 85
        },
        "outputId": "128631e8-bdda-4a5c-9f26-85d210e4a1d6"
      },
      "source": [
        "# macierz transponowana\n",
        "A = np.array([[2, 4], [-1, 3]])\n",
        "print(A.T)\n",
        "np.transpose(A)"
      ],
      "execution_count": 32,
      "outputs": [
        {
          "output_type": "stream",
          "text": [
            "[[ 2 -1]\n",
            " [ 4  3]]\n"
          ],
          "name": "stdout"
        },
        {
          "output_type": "execute_result",
          "data": {
            "text/plain": [
              "array([[ 2, -1],\n",
              "       [ 4,  3]])"
            ]
          },
          "metadata": {
            "tags": []
          },
          "execution_count": 32
        }
      ]
    },
    {
      "cell_type": "code",
      "metadata": {
        "id": "-APxlfzF4BSS",
        "colab_type": "code",
        "colab": {
          "base_uri": "https://localhost:8080/",
          "height": 51
        },
        "outputId": "f7d06338-0fc7-40c5-d5ee-c54755b90f54"
      },
      "source": [
        "# rozwiazywanie rownan\n",
        "# 2x + 4y = 10\n",
        "# x - y = -1\n",
        "\n",
        "A = np.array([[2, 4], [1, -1]])\n",
        "B = np.array([[10], [-1]])\n",
        "\n",
        "X = np.dot(np.linalg.inv(A), B)\n",
        "X"
      ],
      "execution_count": 35,
      "outputs": [
        {
          "output_type": "execute_result",
          "data": {
            "text/plain": [
              "array([[1.],\n",
              "       [2.]])"
            ]
          },
          "metadata": {
            "tags": []
          },
          "execution_count": 35
        }
      ]
    },
    {
      "cell_type": "code",
      "metadata": {
        "id": "3cq_QhpP5t4u",
        "colab_type": "code",
        "colab": {}
      },
      "source": [
        ""
      ],
      "execution_count": null,
      "outputs": []
    }
  ]
}